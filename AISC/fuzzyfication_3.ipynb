{
 "cells": [
  {
   "cell_type": "code",
   "execution_count": null,
   "metadata": {},
   "outputs": [
    {
     "name": "stdout",
     "output_type": "stream",
     "text": [
      "Crisp output: 8.775\n"
     ]
    }
   ],
   "source": [
    "import numpy as np\n",
    "import skfuzzy as fuzz\n",
    "from skfuzzy import control as ctrl\n",
    "\n",
    "cost_range = np.arange(0, 11, 1)\n",
    "benefit_range = np.arange(0, 11, 1)\n",
    "\n",
    "cost = ctrl.Antecedent(cost_range, 'cost')\n",
    "benefit = ctrl.Antecedent(benefit_range, 'benefit')\n",
    "cost_benefit = ctrl.Consequent(np.arange(0, 11, 1), 'cost_benefit')\n",
    "cost['low'] = fuzz.trimf(cost_range, [0, 0, 5])\n",
    "cost['high'] = fuzz.trimf(cost_range, [5, 10, 10])\n",
    "benefit['low'] = fuzz.trimf(benefit_range, [0, 0, 5])\n",
    "benefit['high'] = fuzz.trimf(benefit_range, [5, 10, 10])\n",
    "\n",
    "cost_benefit['low'] = fuzz.trimf(np.arange(0, 11, 1), [0, 0, 3])\n",
    "cost_benefit['medium'] = fuzz.trimf(np.arange(0, 11, 1), [2, 5, 8])\n",
    "cost_benefit['high'] = fuzz.trimf(np.arange(0, 11, 1), [7, 10, 10])\n",
    "rule1 = ctrl.Rule(cost['low'] & benefit['high'], cost_benefit['high'])\n",
    "rule2 = ctrl.Rule(cost['high'] & benefit['high'], cost_benefit['medium'])\n",
    "rule3 = ctrl.Rule(cost['low'] & benefit['low'], cost_benefit['low'])\n",
    "rule4 = ctrl.Rule(cost['high'] & benefit['low'], cost_benefit['low'])\n",
    "\n",
    "cost_benefit_ctrl = ctrl.ControlSystem([rule1, rule2, rule3, rule4])\n",
    "cost_benefit_sim = ctrl.ControlSystemSimulation(cost_benefit_ctrl)\n",
    "cost_benefit_sim.input['cost'] = 3  \n",
    "cost_benefit_sim.input['benefit'] = 8  \n",
    "\n",
    "cost_benefit_sim.compute()\n",
    "\n",
    "result = cost_benefit_sim.output['cost_benefit']\n",
    "print(\"Crisp output:\", result)\n",
    "# Crisp output: 8.775"
   ]
  }
 ],
 "metadata": {
  "kernelspec": {
   "display_name": "Python 3",
   "language": "python",
   "name": "python3"
  },
  "language_info": {
   "codemirror_mode": {
    "name": "ipython",
    "version": 3
   },
   "file_extension": ".py",
   "mimetype": "text/x-python",
   "name": "python",
   "nbconvert_exporter": "python",
   "pygments_lexer": "ipython3",
   "version": "3.12.1"
  }
 },
 "nbformat": 4,
 "nbformat_minor": 2
}
