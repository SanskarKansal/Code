{
 "cells": [
  {
   "cell_type": "code",
   "execution_count": 1,
   "metadata": {},
   "outputs": [
    {
     "name": "stdout",
     "output_type": "stream",
     "text": [
      "Cost Benefit (Manual Defuzzified): 8.666666666666666\n"
     ]
    }
   ],
   "source": [
    "import numpy as np\n",
    "import skfuzzy as fuzz\n",
    "from skfuzzy import control as ctrl\n",
    "\n",
    "def centroid_defuzzification(x, membership_values):\n",
    "    numerator = np.sum(x * membership_values)\n",
    "    denominator = np.sum(membership_values)\n",
    "    return numerator / denominator if denominator != 0 else 0\n",
    "\n",
    "cost = ctrl.Antecedent(np.arange(0, 11, 1), 'cost')\n",
    "benefit = ctrl.Antecedent(np.arange(0, 11, 1), 'benefit')\n",
    "\n",
    "cost['low'] = fuzz.trimf(cost.universe, [0, 0, 5])\n",
    "cost['high'] = fuzz.trimf(cost.universe, [5, 10, 10])\n",
    "benefit['low'] = fuzz.trimf(benefit.universe, [0, 0, 5])\n",
    "benefit['high'] = fuzz.trimf(benefit.universe, [5, 10, 10])\n",
    "\n",
    "cost_benefit_universe = np.arange(0, 11, 1)\n",
    "low_out = fuzz.trimf(cost_benefit_universe, [0, 0, 5])\n",
    "medium_out = fuzz.trimf(cost_benefit_universe, [3, 5, 7])\n",
    "high_out = fuzz.trimf(cost_benefit_universe, [5, 10, 10])\n",
    "\n",
    "cost_val = 3\n",
    "benefit_val = 8\n",
    "\n",
    "cost_low = fuzz.interp_membership(cost.universe, cost['low'].mf, cost_val)\n",
    "cost_high = fuzz.interp_membership(cost.universe, cost['high'].mf, cost_val)\n",
    "benefit_low = fuzz.interp_membership(benefit.universe, benefit['low'].mf, benefit_val)\n",
    "benefit_high = fuzz.interp_membership(benefit.universe, benefit['high'].mf, benefit_val)\n",
    "\n",
    "rule1_strength = np.fmin(cost_low, benefit_high)    \n",
    "rule2_strength = np.fmin(cost_high, benefit_high)  \n",
    "rule3_strength = np.fmin(cost_low, benefit_low)    \n",
    "rule4_strength = np.fmin(cost_high, benefit_low)    \n",
    "\n",
    "agg_low = np.fmax(rule3_strength, rule4_strength)\n",
    "aggregated = np.fmax(agg_low * low_out,np.fmax(rule2_strength * medium_out,rule1_strength * high_out))\n",
    "\n",
    "crisp_output = centroid_defuzzification(cost_benefit_universe, aggregated)\n",
    "\n",
    "print(\"Cost Benefit (Manual Defuzzified):\", crisp_output)\n"
   ]
  }
 ],
 "metadata": {
  "kernelspec": {
   "display_name": "Python 3",
   "language": "python",
   "name": "python3"
  },
  "language_info": {
   "codemirror_mode": {
    "name": "ipython",
    "version": 3
   },
   "file_extension": ".py",
   "mimetype": "text/x-python",
   "name": "python",
   "nbconvert_exporter": "python",
   "pygments_lexer": "ipython3",
   "version": "3.12.1"
  }
 },
 "nbformat": 4,
 "nbformat_minor": 2
}
